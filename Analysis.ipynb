{
    "cells": [
        {
            "cell_type": "markdown",
            "metadata": {},
            "source": "Description# Camera Data"
        },
        {
            "cell_type": "code",
            "execution_count": 1,
            "metadata": {},
            "outputs": [
                {
                    "data": {
                        "text/html": "<div>\n<style scoped>\n    .dataframe tbody tr th:only-of-type {\n        vertical-align: middle;\n    }\n\n    .dataframe tbody tr th {\n        vertical-align: top;\n    }\n\n    .dataframe thead th {\n        text-align: right;\n    }\n</style>\n<table border=\"1\" class=\"dataframe\">\n  <thead>\n    <tr style=\"text-align: right;\">\n      <th></th>\n      <th>address</th>\n      <th>direction</th>\n      <th>street</th>\n      <th>crossStreet</th>\n      <th>intersection</th>\n      <th>Location 1</th>\n    </tr>\n  </thead>\n  <tbody>\n    <tr>\n      <th>0</th>\n      <td>GARRISON BLVD &amp; WABASH AVE</td>\n      <td>E/B</td>\n      <td>Garrison \\n</td>\n      <td>Wabash Ave</td>\n      <td>Garrison \\n &amp; Wabash Ave</td>\n      <td>(39.341209, -76.683117)</td>\n    </tr>\n    <tr>\n      <th>1</th>\n      <td>HILLEN ST &amp; FORREST ST</td>\n      <td>W/B</td>\n      <td>Hillen \\n</td>\n      <td>Forrest St</td>\n      <td>Hillen \\n &amp; Forrest St</td>\n      <td>(39.29686, -76.605532)</td>\n    </tr>\n    <tr>\n      <th>2</th>\n      <td>EDMONDSON AVE &amp; N ATHOL AVE</td>\n      <td>E/B</td>\n      <td>Edmonson\\n</td>\n      <td>Woodbridge Ave</td>\n      <td>Edmonson\\n  &amp; Woodbridge Ave</td>\n      <td>(39.293453, -76.689391)</td>\n    </tr>\n    <tr>\n      <th>3</th>\n      <td>YORK RD &amp; GITTINGS AVE</td>\n      <td>S/B</td>\n      <td>York Rd \\n</td>\n      <td>Gitting Ave</td>\n      <td>York Rd \\n &amp; Gitting Ave</td>\n      <td>(39.370493, -76.609812)</td>\n    </tr>\n    <tr>\n      <th>4</th>\n      <td>RUSSELL ST &amp; W HAMBURG ST</td>\n      <td>S/B</td>\n      <td>Russell\\n</td>\n      <td>Hamburg St</td>\n      <td>Russell\\n  &amp; Hamburg St</td>\n      <td>(39.279819, -76.623911)</td>\n    </tr>\n  </tbody>\n</table>\n</div>",
                        "text/plain": "                       address direction       street     crossStreet  \\\n0   GARRISON BLVD & WABASH AVE       E/B  Garrison \\n      Wabash Ave   \n1       HILLEN ST & FORREST ST       W/B    Hillen \\n      Forrest St   \n2  EDMONDSON AVE & N ATHOL AVE       E/B   Edmonson\\n  Woodbridge Ave   \n3       YORK RD & GITTINGS AVE       S/B   York Rd \\n     Gitting Ave   \n4    RUSSELL ST & W HAMBURG ST       S/B    Russell\\n      Hamburg St   \n\n                   intersection               Location 1  \n0      Garrison \\n & Wabash Ave  (39.341209, -76.683117)  \n1        Hillen \\n & Forrest St   (39.29686, -76.605532)  \n2  Edmonson\\n  & Woodbridge Ave  (39.293453, -76.689391)  \n3      York Rd \\n & Gitting Ave  (39.370493, -76.609812)  \n4       Russell\\n  & Hamburg St  (39.279819, -76.623911)  "
                    },
                    "execution_count": 1,
                    "metadata": {},
                    "output_type": "execute_result"
                }
            ],
            "source": "# The code was removed by Watson Studio for sharing."
        },
        {
            "cell_type": "code",
            "execution_count": null,
            "metadata": {},
            "outputs": [],
            "source": ""
        },
        {
            "cell_type": "code",
            "execution_count": null,
            "metadata": {},
            "outputs": [],
            "source": ""
        }
    ],
    "metadata": {
        "kernelspec": {
            "display_name": "Python 3.6",
            "language": "python",
            "name": "python3"
        },
        "language_info": {
            "codemirror_mode": {
                "name": "ipython",
                "version": 3
            },
            "file_extension": ".py",
            "mimetype": "text/x-python",
            "name": "python",
            "nbconvert_exporter": "python",
            "pygments_lexer": "ipython3",
            "version": "3.6.9"
        }
    },
    "nbformat": 4,
    "nbformat_minor": 1
}